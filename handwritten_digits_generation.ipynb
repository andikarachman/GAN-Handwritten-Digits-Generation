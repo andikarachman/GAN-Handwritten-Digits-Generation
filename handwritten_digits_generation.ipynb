{
 "cells": [
  {
   "cell_type": "markdown",
   "metadata": {},
   "source": [
    "# Handwritten Digits Generation\n",
    "\n",
    "In this notebook, we'll be building handwritten digits generation models. Two methods are used:\n",
    "1. Generative Adversarial Network (GAN)\n",
    "2. Deep Convolutional GAN (DCGAN)\n",
    "\n",
    "MNIST dataset will be used to train the models."
   ]
  },
  {
   "cell_type": "markdown",
   "metadata": {},
   "source": [
    "### Table of Content\n",
    "- [0.0. Preparation](#0.0.)\n",
    "  - [0.1. Import the data](#0.1.)\n",
    "  - [0.2. Visualize the data](#0.2.)\n",
    "  - [0.2. Pre-processing: scaling from -1 to 1 ](#0.3.)<br>\n",
    "  <br>\n",
    "- [1.0. Generative Adversarial Network](#1.0.)\n",
    "  - [1.1. Define the model](#1.1.)\n",
    "    - [1.1.1. Discriminator](#1.1.1.)\n",
    "    - [1.1.2. Generator](#1.1.2.)\n",
    "    - [1.1.3. Model hyperparameters](#1.1.3.)\n",
    "    - [1.1.4. Build complete network](#1.1.4.)<br>\n",
    "    <br>\n",
    "  - [1.2. Discriminator and generator loss](#1.2.)\n",
    "    - [1.2.1. Discriminator loss](#1.2.1.)\n",
    "    - [1.2.2. Generator loss](#1.2.2.)\n",
    "    - [1.2.3. Optimizers](#1.2.3.)<br>\n",
    "    <br>\n",
    "  - [1.3. Training](#1.3.)\n",
    "  - [1.4. Training loss](#1.4.)\n",
    "  - [1.5. Generator samples from training](#1.5.)\n",
    "  - [1.6. Sampling from the generator](#1.6.)<br>\n",
    "  <br>  \n",
    "- [2.0. Deep Convolutional Generative Adversarial Network](#2.0.)\n",
    "  - [2.1. Define the model](#2.1.)\n",
    "    - [2.1.1. Discriminator](#2.1.1.)\n",
    "    - [2.1.2. Generator](#2.1.2.)\n",
    "    - [2.1.3. Build complete network](#2.1.3.)\n",
    "    - [2.1.4. Training on GPU](#2.1.4.)<br>\n",
    "    <br>\n",
    "  - [2.2. Discriminator and generator loss](#2.2.)\n",
    "    - [2.2.1. Discriminator loss](#2.2.1.)\n",
    "    - [2.2.2. Generator loss](#2.2.2.)\n",
    "    - [2.2.3. Optimizers](#2.2.3.)<br>\n",
    "    <br>\n",
    "  - [2.3. Training](#2.3.)\n",
    "  - [2.4. Training loss](#2.4.)\n",
    "  - [2.5. Generator samples from training](#2.5.)"
   ]
  },
  {
   "cell_type": "markdown",
   "metadata": {},
   "source": [
    "---\n",
    "## 0.0. Preparation <a id=\"0.0.\"></a>"
   ]
  },
  {
   "cell_type": "code",
   "execution_count": 198,
   "metadata": {
    "collapsed": true
   },
   "outputs": [],
   "source": [
    "%matplotlib inline\n",
    "\n",
    "import numpy as np\n",
    "import torch\n",
    "import matplotlib.pyplot as plt"
   ]
  },
  {
   "cell_type": "markdown",
   "metadata": {},
   "source": [
    "### 0.1. Import the data <a id=\"0.1.\"></a>"
   ]
  },
  {
   "cell_type": "code",
   "execution_count": 199,
   "metadata": {
    "collapsed": true
   },
   "outputs": [],
   "source": [
    "from torchvision import datasets\n",
    "import torchvision.transforms as transforms\n",
    "\n",
    "# number of subprocesses to use for data loading\n",
    "num_workers = 0\n",
    "# how many samples per batch to load\n",
    "batch_size = 64\n",
    "\n",
    "# convert data to torch.FloatTensor\n",
    "transform = transforms.Compose([transforms.Resize(32), transforms.ToTensor()])\n",
    "\n",
    "# get the training datasets\n",
    "train_data = datasets.MNIST(root='data', train=True,\n",
    "                            download=True, transform=transform)\n",
    "\n",
    "# prepare data loader\n",
    "train_loader = torch.utils.data.DataLoader(train_data, batch_size=batch_size,\n",
    "                                           num_workers=num_workers)"
   ]
  },
  {
   "cell_type": "markdown",
   "metadata": {},
   "source": [
    "### 0.2. Visualize the data <a id=\"0.2.\"></a>"
   ]
  },
  {
   "cell_type": "code",
   "execution_count": 200,
   "metadata": {
    "scrolled": true
   },
   "outputs": [
    {
     "data": {
      "text/plain": [
       "<matplotlib.image.AxesImage at 0x12489b438>"
      ]
     },
     "execution_count": 200,
     "metadata": {},
     "output_type": "execute_result"
    },
    {
     "data": {
      "image/png": "[encoded data removed]",
      "text/plain": [
       "<Figure size 216x216 with 1 Axes>"
      ]
     },
     "metadata": {},
     "output_type": "display_data"
    }
   ],
   "source": [
    "# obtain one batch of training images\n",
    "dataiter = iter(train_loader)\n",
    "images, labels = dataiter.next()\n",
    "images = images.numpy()\n",
    "\n",
    "# get one image from the batch\n",
    "img = np.squeeze(images[0])\n",
    "\n",
    "fig = plt.figure(figsize = (3,3)) \n",
    "ax = fig.add_subplot(111)\n",
    "ax.imshow(img, cmap='gray')"
   ]
  },
  {
   "cell_type": "markdown",
   "metadata": {},
   "source": [
    "### 0.3. Pre-processing: scaling from -1 to 1 <a id=\"0.3.\"></a>\n",
    "We need to do a bit of pre-processing; we know that the output of our `tanh` activated generator will contain pixel values in a range from -1 to 1, and so, we need to rescale our training images to a range of -1 to 1. (Right now, they are in a range from 0-1.)"
   ]
  },
  {
   "cell_type": "code",
   "execution_count": 201,
   "metadata": {},
   "outputs": [
    {
     "name": "stdout",
     "output_type": "stream",
     "text": [
      "Min:  0.0\n",
      "Max:  0.99215686\n"
     ]
    }
   ],
   "source": [
    "# current range\n",
    "img = images[0]\n",
    "\n",
    "print('Min: ', img.min())\n",
    "print('Max: ', img.max())"
   ]
  },
  {
   "cell_type": "code",
   "execution_count": 202,
   "metadata": {
    "collapsed": true
   },
   "outputs": [],
   "source": [
    "# helper scale function\n",
    "def scale(x, feature_range=(-1, 1)):\n",
    "    ''' Scale takes in an image x and returns that image, scaled\n",
    "       with a feature_range of pixel values from -1 to 1. \n",
    "       This function assumes that the input x is already scaled from 0-1.'''\n",
    "    # assume x is scaled to (0, 1)\n",
    "    # scale to feature_range and return scaled x\n",
    "    min_, max_ = feature_range\n",
    "    x = x * (max_ - min_) + min_\n",
    "    return x"
   ]
  },
  {
   "cell_type": "code",
   "execution_count": 203,
   "metadata": {},
   "outputs": [
    {
     "name": "stdout",
     "output_type": "stream",
     "text": [
      "Scaled min:  -1.0\n",
      "Scaled max:  0.9843137\n"
     ]
    }
   ],
   "source": [
    "# scaled range\n",
    "scaled_img = scale(img)\n",
    "\n",
    "print('Scaled min: ', scaled_img.min())\n",
    "print('Scaled max: ', scaled_img.max())"
   ]
  },
  {
   "cell_type": "markdown",
   "metadata": {},
   "source": [
    "---\n",
    "## 1.0. Generative Adversarial Network <a id=\"1.0.\"></a>\n",
    "\n",
    "The idea behind GANs is that you have two networks, a generator $G$ and a discriminator $D$, competing against each other. The generator makes \"fake\" data to pass to the discriminator. The discriminator also sees real training data and predicts if the data it's received is real or fake. \n",
    "> * The generator is trained to fool the discriminator, it wants to output data that looks _as close as possible_ to real, training data. \n",
    "* The discriminator is a classifier that is trained to figure out which data is real and which is fake. \n",
    "\n",
    "What ends up happening is that the generator learns to make data that is indistinguishable from real data to the discriminator.\n",
    "\n",
    "<img src='assets/gan_pipeline.png' width=70% />\n",
    "\n",
    "The general structure of a GAN is shown in the diagram above, using MNIST images as data. The latent sample is a random vector that the generator uses to construct its fake images. This is often called a **latent vector** and that vector space is called **latent space**. As the generator trains, it figures out how to map latent vectors to recognizable images that can fool the discriminator."
   ]
  },
  {
   "cell_type": "markdown",
   "metadata": {},
   "source": [
    "---\n",
    "### 1.1. Define the model <a id=\"1.1.\"></a>\n",
    "\n",
    "A GAN is comprised of two adversarial networks, a discriminator and a generator."
   ]
  },
  {
   "cell_type": "markdown",
   "metadata": {},
   "source": [
    "### 1.1.1. Discriminator <a id=\"1.1.1.\"></a>\n",
    "\n",
    "The discriminator network is going to be a pretty typical linear classifier. To make this network a universal function approximator, we'll need at least one hidden layer, and these hidden layers should have one key attribute:\n",
    "> All hidden layers will have a [Leaky ReLu](https://pytorch.org/docs/stable/nn.html#torch.nn.LeakyReLU) activation function applied to their outputs.\n",
    "\n",
    "<img src='assets/gan_network.png' width=70% />\n",
    "\n",
    "#### Leaky ReLu\n",
    "\n",
    "We should use a leaky ReLU to allow gradients to flow backwards through the layer unimpeded. A leaky ReLU is like a normal ReLU, except that there is a small non-zero output for negative input values.\n",
    "\n",
    "<img src='assets/leaky_relu.png' width=40% />\n",
    "\n",
    "#### Sigmoid Output\n",
    "\n",
    "We'll also take the approach of using a more numerically stable loss function on the outputs. Recall that we want the discriminator to output a value 0-1 indicating whether an image is _real or fake_. \n",
    "> We will ultimately use [BCEWithLogitsLoss](https://pytorch.org/docs/stable/nn.html#bcewithlogitsloss), which combines a `sigmoid` activation function **and** and binary cross entropy loss in one function. \n",
    "\n",
    "So, our final output layer should not have any activation function applied to it."
   ]
  },
  {
   "cell_type": "code",
   "execution_count": 211,
   "metadata": {
    "collapsed": true
   },
   "outputs": [],
   "source": [
    "## import torch.nn as nn\n",
    "import torch.nn.functional as F\n",
    "\n",
    "class Discriminator(nn.Module):\n",
    "\n",
    "    def __init__(self, input_size, hidden_dim, output_size):\n",
    "        super(Discriminator, self).__init__()\n",
    "        \n",
    "        # hidden layers\n",
    "        self.fc1 = nn.Linear(input_size, 4*hidden_dim)\n",
    "        self.fc2 = nn.Linear(4*hidden_dim, 2*hidden_dim)\n",
    "        self.fc3 = nn.Linear(2*hidden_dim, hidden_dim)\n",
    "        # final layer\n",
    "        self.fc4 = nn.Linear(hidden_dim, output_size)\n",
    "        # dropout layer\n",
    "        self.dropout = nn.Dropout(0.3)\n",
    "        \n",
    "    def forward(self, x):\n",
    "        # flatten image\n",
    "        x = x.view(-1, 32 * 32)\n",
    "        # pass x through all layers\n",
    "        x = F.leaky_relu(self.fc1(x), 0.2)\n",
    "        x = self.dropout(x)\n",
    "        x = F.leaky_relu(self.fc2(x), 0.2)\n",
    "        x = self.dropout(x)\n",
    "        x = F.leaky_relu(self.fc3(x), 0.2)\n",
    "        x = self.dropout(x)\n",
    "        x = self.fc4(x)\n",
    "\n",
    "        return x\n"
   ]
  },
  {
   "cell_type": "markdown",
   "metadata": {},
   "source": [
    "### 1.1.2. Generator <a id=\"1.1.2.\"></a>\n",
    "\n",
    "The generator network will be almost exactly the same as the discriminator network, except that we're applying a [tanh activation function](https://pytorch.org/docs/stable/nn.html#tanh) to our output layer.\n",
    "\n",
    "#### tanh Output\n",
    "The generator has been found to perform the best with $tanh$ for the generator output, which scales the output to be between -1 and 1, instead of 0 and 1. \n",
    "\n",
    "<img src='assets/tanh_fn.png' width=40% />\n",
    "\n",
    "Recall that we also want these outputs to be comparable to the *real* input pixel values, which are read in as normalized values between 0 and 1. \n",
    "> So, we'll also have to **scale our real input images to have pixel values between -1 and 1** when we train the discriminator. \n",
    "\n",
    "We'll do this in the training loop, later on."
   ]
  },
  {
   "cell_type": "code",
   "execution_count": 212,
   "metadata": {
    "collapsed": true
   },
   "outputs": [],
   "source": [
    "class Generator(nn.Module):\n",
    "\n",
    "    def __init__(self, input_size, hidden_dim, output_size):\n",
    "        super(Generator, self).__init__()\n",
    "        \n",
    "        # hidden layers\n",
    "        self.fc1 = nn.Linear(input_size, hidden_dim)\n",
    "        self.fc2 = nn.Linear(hidden_dim, 2*hidden_dim)\n",
    "        self.fc3 = nn.Linear(2*hidden_dim, 4*hidden_dim)\n",
    "        # final layer\n",
    "        self.fc4 = nn.Linear(4*hidden_dim, output_size)\n",
    "        # dropout layer\n",
    "        self.dropout = nn.Dropout(0.3)\n",
    "\n",
    "    def forward(self, x):\n",
    "        # pass x through all layers\n",
    "        x = F.leaky_relu(self.fc1(x), 0.2)\n",
    "        x = self.dropout(x)\n",
    "        x = F.leaky_relu(self.fc2(x), 0.2)\n",
    "        x = self.dropout(x)\n",
    "        x = F.leaky_relu(self.fc3(x), 0.2)\n",
    "        x = self.dropout(x)\n",
    "        # final layer \n",
    "        x = F.tanh(self.fc4(x))\n",
    "        \n",
    "        return x"
   ]
  },
  {
   "cell_type": "markdown",
   "metadata": {},
   "source": [
    "### 1.1.3. Model hyperparameters <a id=\"1.1.3.\"></a>"
   ]
  },
  {
   "cell_type": "code",
   "execution_count": 213,
   "metadata": {
    "collapsed": true
   },
   "outputs": [],
   "source": [
    "# Discriminator hyperparams\n",
    "\n",
    "# Size of input image to discriminator\n",
    "input_size = 32 * 32\n",
    "# Size of discriminator output (real or fake)\n",
    "d_output_size = 1\n",
    "# Size of *last* hidden layer in the discriminator\n",
    "d_hidden_size = 32\n",
    "\n",
    "# Generator hyperparams\n",
    "\n",
    "# Size of latent vector to give to generator\n",
    "z_size = 100\n",
    "# Size of discriminator output (generated image)\n",
    "g_output_size = 32 * 32\n",
    "# Size of *first* hidden layer in the generator\n",
    "g_hidden_size = 32"
   ]
  },
  {
   "cell_type": "markdown",
   "metadata": {},
   "source": [
    "### 1.1.4. Build complete network <a id=\"1.1.4.\"></a>\n",
    "\n",
    "Now we're instantiating the discriminator and generator from the classes defined above. "
   ]
  },
  {
   "cell_type": "code",
   "execution_count": 214,
   "metadata": {},
   "outputs": [
    {
     "name": "stdout",
     "output_type": "stream",
     "text": [
      "Discriminator(\n",
      "  (fc1): Linear(in_features=1024, out_features=128, bias=True)\n",
      "  (fc2): Linear(in_features=128, out_features=64, bias=True)\n",
      "  (fc3): Linear(in_features=64, out_features=32, bias=True)\n",
      "  (fc4): Linear(in_features=32, out_features=1, bias=True)\n",
      "  (dropout): Dropout(p=0.3)\n",
      ")\n",
      "\n",
      "Generator(\n",
      "  (fc1): Linear(in_features=100, out_features=32, bias=True)\n",
      "  (fc2): Linear(in_features=32, out_features=64, bias=True)\n",
      "  (fc3): Linear(in_features=64, out_features=128, bias=True)\n",
      "  (fc4): Linear(in_features=128, out_features=1024, bias=True)\n",
      "  (dropout): Dropout(p=0.3)\n",
      ")\n"
     ]
    }
   ],
   "source": [
    "# instantiate discriminator and generator\n",
    "D = Discriminator(input_size, d_hidden_size, d_output_size)\n",
    "G = Generator(z_size, g_hidden_size, g_output_size)\n",
    "\n",
    "# check that they are as we expect\n",
    "print(D)\n",
    "print()\n",
    "print(G)"
   ]
  },
  {
   "cell_type": "markdown",
   "metadata": {},
   "source": [
    "---\n",
    "### 1.2. Discriminator and generator loss <a id=\"1.2.\"></a>\n",
    "\n",
    "Now we need to calculate the losses. \n",
    "\n",
    "### 1.2.1 Discriminator loss <a id=\"1.2.1.\"></a>\n",
    "\n",
    "> * For the discriminator, the total loss is the sum of the losses for real and fake images, `d_loss = d_real_loss + d_fake_loss`. \n",
    "* Remember that we want the discriminator to output 1 for real images and 0 for fake images, so we need to set up the losses to reflect that.\n",
    "\n",
    "<img src='assets/gan_pipeline.png' width=70% />\n",
    "\n",
    "The losses will by binary cross entropy loss with logits, which we can get with [BCEWithLogitsLoss](https://pytorch.org/docs/stable/nn.html#bcewithlogitsloss). This combines a `sigmoid` activation function **and** and binary cross entropy loss in one function.\n",
    "\n",
    "For the real images, we want `D(real_images) = 1`. That is, we want the discriminator to classify the the real images with a label = 1, indicating that these are real. To help the discriminator generalize better, the labels are **reduced a bit from 1.0 to 0.9**. For this, we'll use the parameter `smooth`; if True, then we should smooth our labels. In PyTorch, this looks like `labels = torch.ones(size) * 0.9`\n",
    "\n",
    "The discriminator loss for the fake data is similar. We want `D(fake_images) = 0`, where the fake images are the _generator output_, `fake_images = G(z)`. \n",
    "\n",
    "### 1.2.2. Generator loss <a id=\"1.2.2.\"></a>\n",
    "\n",
    "The generator loss will look similar only with flipped labels. The generator's goal is to get `D(fake_images) = 1`. In this case, the labels are **flipped** to represent that the generator is trying to fool the discriminator into thinking that the images it generates (fakes) are real!"
   ]
  },
  {
   "cell_type": "code",
   "execution_count": 215,
   "metadata": {
    "collapsed": true
   },
   "outputs": [],
   "source": [
    "# Calculate losses\n",
    "def real_loss(D_out, smooth=False):\n",
    "    batch_size = D_out.size(0)\n",
    "    # smooth labels if smooth=True\n",
    "    if smooth:\n",
    "        labels = torch.ones(batch_size) * 0.9\n",
    "    else:\n",
    "        labels = torch.ones(batch_size)\n",
    "    criterion = nn.BCEWithLogitsLoss()\n",
    "    # compare logits to real labels\n",
    "    loss = criterion(D_out.squeeze(), labels)\n",
    "    return loss\n",
    "\n",
    "def fake_loss(D_out):\n",
    "    batch_size = D_out.size(0)\n",
    "    labels = torch.zeros(batch_size)\n",
    "    criterion = nn.BCEWithLogitsLoss()\n",
    "    # compare logits to fake labels\n",
    "    loss = criterion(D_out.squeeze(), labels)\n",
    "    return loss"
   ]
  },
  {
   "cell_type": "markdown",
   "metadata": {},
   "source": [
    "### 1.2.3. Optimizers <a id=\"1.2.3.\"></a>\n",
    "\n",
    "We want to update the generator and discriminator variables separately. So, we'll define two separate Adam optimizers."
   ]
  },
  {
   "cell_type": "code",
   "execution_count": 216,
   "metadata": {
    "collapsed": true,
    "scrolled": true
   },
   "outputs": [],
   "source": [
    "import torch.optim as optim\n",
    "\n",
    "# learning rate for optimizers\n",
    "lr = 0.002\n",
    "\n",
    "# Create optimizers for the discriminator and generator\n",
    "d_optimizer = optim.Adam(D.parameters(), lr)\n",
    "g_optimizer = optim.Adam(G.parameters(), lr)"
   ]
  },
  {
   "cell_type": "markdown",
   "metadata": {},
   "source": [
    "---\n",
    "### 1.3. Training <a id=\"1.3.\"></a>\n",
    "\n",
    "Training will involve alternating between training the discriminator and the generator. We'll use our functions `real_loss` and `fake_loss` to help us calculate the discriminator losses in all of the following cases.\n",
    "\n",
    "#### Discriminator training\n",
    "1. Compute the discriminator loss on real, training images        \n",
    "2. Generate fake images\n",
    "3. Compute the discriminator loss on fake, generated images     \n",
    "4. Add up real and fake loss\n",
    "5. Perform backpropagation + an optimization step to update the discriminator's weights\n",
    "\n",
    "#### Generator training\n",
    "1. Generate fake images\n",
    "2. Compute the discriminator loss on fake images, using **flipped** labels!\n",
    "3. Perform backpropagation + an optimization step to update the generator's weights\n",
    "\n",
    "#### Saving Samples\n",
    "\n",
    "As we train, we'll also print out some loss statistics and save some generated \"fake\" samples."
   ]
  },
  {
   "cell_type": "code",
   "execution_count": 218,
   "metadata": {
    "scrolled": true
   },
   "outputs": [
    {
     "name": "stderr",
     "output_type": "stream",
     "text": [
      "/anaconda3/lib/python3.6/site-packages/torch/nn/functional.py:1374: UserWarning: nn.functional.tanh is deprecated. Use torch.tanh instead.\n",
      "  warnings.warn(\"nn.functional.tanh is deprecated. Use torch.tanh instead.\")\n"
     ]
    },
    {
     "name": "stdout",
     "output_type": "stream",
     "text": [
      "Epoch [    1/   50] | d_loss: 0.8495 | g_loss: 2.7906\n",
      "Epoch [    1/   50] | d_loss: 0.8768 | g_loss: 1.7570\n",
      "Epoch [    1/   50] | d_loss: 1.0222 | g_loss: 1.0744\n",
      "Epoch [    2/   50] | d_loss: 0.9598 | g_loss: 1.1178\n",
      "Epoch [    2/   50] | d_loss: 0.9935 | g_loss: 1.1254\n",
      "Epoch [    2/   50] | d_loss: 1.1981 | g_loss: 1.3074\n",
      "Epoch [    3/   50] | d_loss: 1.0183 | g_loss: 0.9736\n",
      "Epoch [    3/   50] | d_loss: 0.8513 | g_loss: 2.6805\n",
      "Epoch [    3/   50] | d_loss: 1.2598 | g_loss: 1.4123\n",
      "Epoch [    4/   50] | d_loss: 1.3903 | g_loss: 1.1376\n",
      "Epoch [    4/   50] | d_loss: 1.2641 | g_loss: 0.8290\n",
      "Epoch [    4/   50] | d_loss: 1.2853 | g_loss: 1.2991\n",
      "Epoch [    5/   50] | d_loss: 1.1544 | g_loss: 2.1589\n",
      "Epoch [    5/   50] | d_loss: 1.2642 | g_loss: 0.8460\n",
      "Epoch [    5/   50] | d_loss: 1.2973 | g_loss: 1.5470\n",
      "Epoch [    6/   50] | d_loss: 1.1789 | g_loss: 1.1485\n",
      "Epoch [    6/   50] | d_loss: 1.0069 | g_loss: 1.3597\n",
      "Epoch [    6/   50] | d_loss: 1.1324 | g_loss: 1.2024\n",
      "Epoch [    7/   50] | d_loss: 1.3701 | g_loss: 3.2562\n",
      "Epoch [    7/   50] | d_loss: 1.2583 | g_loss: 2.9019\n",
      "Epoch [    7/   50] | d_loss: 0.5057 | g_loss: 24.6361\n",
      "Epoch [    8/   50] | d_loss: 0.5887 | g_loss: 17.9781\n",
      "Epoch [    8/   50] | d_loss: 0.7639 | g_loss: 8.5598\n",
      "Epoch [    8/   50] | d_loss: 0.5124 | g_loss: 10.6736\n",
      "Epoch [    9/   50] | d_loss: 0.8241 | g_loss: 6.9916\n",
      "Epoch [    9/   50] | d_loss: 0.8483 | g_loss: 3.8029\n",
      "Epoch [    9/   50] | d_loss: 0.8785 | g_loss: 2.7162\n",
      "Epoch [   10/   50] | d_loss: 1.0544 | g_loss: 1.4724\n",
      "Epoch [   10/   50] | d_loss: 1.0850 | g_loss: 1.5724\n",
      "Epoch [   10/   50] | d_loss: 1.1653 | g_loss: 1.7184\n",
      "Epoch [   11/   50] | d_loss: 1.2258 | g_loss: 1.9828\n",
      "Epoch [   11/   50] | d_loss: 1.1251 | g_loss: 1.2505\n",
      "Epoch [   11/   50] | d_loss: 1.3777 | g_loss: 1.0686\n",
      "Epoch [   12/   50] | d_loss: 1.0572 | g_loss: 1.7527\n",
      "Epoch [   12/   50] | d_loss: 1.2082 | g_loss: 1.6235\n",
      "Epoch [   12/   50] | d_loss: 1.2803 | g_loss: 1.4285\n",
      "Epoch [   13/   50] | d_loss: 1.2549 | g_loss: 1.0874\n",
      "Epoch [   13/   50] | d_loss: 1.1280 | g_loss: 0.9986\n",
      "Epoch [   13/   50] | d_loss: 1.2768 | g_loss: 1.2991\n",
      "Epoch [   14/   50] | d_loss: 1.1924 | g_loss: 0.9274\n",
      "Epoch [   14/   50] | d_loss: 1.2451 | g_loss: 0.8444\n",
      "Epoch [   14/   50] | d_loss: 1.1972 | g_loss: 0.8963\n",
      "Epoch [   15/   50] | d_loss: 1.3664 | g_loss: 0.9393\n",
      "Epoch [   15/   50] | d_loss: 1.1656 | g_loss: 1.2100\n",
      "Epoch [   15/   50] | d_loss: 1.1133 | g_loss: 1.5922\n",
      "Epoch [   16/   50] | d_loss: 1.0811 | g_loss: 2.0470\n",
      "Epoch [   16/   50] | d_loss: 1.1137 | g_loss: 1.1973\n",
      "Epoch [   16/   50] | d_loss: 1.1124 | g_loss: 1.0229\n",
      "Epoch [   17/   50] | d_loss: 1.2403 | g_loss: 1.2581\n",
      "Epoch [   17/   50] | d_loss: 1.1645 | g_loss: 1.2809\n",
      "Epoch [   17/   50] | d_loss: 1.3031 | g_loss: 0.9630\n",
      "Epoch [   18/   50] | d_loss: 1.2658 | g_loss: 1.2295\n",
      "Epoch [   18/   50] | d_loss: 1.2109 | g_loss: 1.4361\n",
      "Epoch [   18/   50] | d_loss: 1.3302 | g_loss: 0.8611\n",
      "Epoch [   19/   50] | d_loss: 1.2041 | g_loss: 1.2060\n",
      "Epoch [   19/   50] | d_loss: 1.2537 | g_loss: 1.0542\n",
      "Epoch [   19/   50] | d_loss: 1.0900 | g_loss: 1.4131\n",
      "Epoch [   20/   50] | d_loss: 1.0747 | g_loss: 1.2841\n",
      "Epoch [   20/   50] | d_loss: 1.2047 | g_loss: 1.2389\n",
      "Epoch [   20/   50] | d_loss: 1.2497 | g_loss: 0.9320\n",
      "Epoch [   21/   50] | d_loss: 1.1165 | g_loss: 1.4949\n",
      "Epoch [   21/   50] | d_loss: 1.1515 | g_loss: 0.9854\n",
      "Epoch [   21/   50] | d_loss: 1.1676 | g_loss: 1.2966\n",
      "Epoch [   22/   50] | d_loss: 1.2236 | g_loss: 1.2342\n",
      "Epoch [   22/   50] | d_loss: 1.2495 | g_loss: 0.9930\n",
      "Epoch [   22/   50] | d_loss: 1.2837 | g_loss: 0.9580\n",
      "Epoch [   23/   50] | d_loss: 1.2705 | g_loss: 0.9152\n",
      "Epoch [   23/   50] | d_loss: 1.1094 | g_loss: 1.1440\n",
      "Epoch [   23/   50] | d_loss: 1.2032 | g_loss: 1.3380\n",
      "Epoch [   24/   50] | d_loss: 1.2051 | g_loss: 1.0485\n",
      "Epoch [   24/   50] | d_loss: 1.2159 | g_loss: 1.2174\n",
      "Epoch [   24/   50] | d_loss: 1.2183 | g_loss: 1.8705\n",
      "Epoch [   25/   50] | d_loss: 1.1428 | g_loss: 1.1175\n",
      "Epoch [   25/   50] | d_loss: 1.1607 | g_loss: 1.6050\n",
      "Epoch [   25/   50] | d_loss: 1.2820 | g_loss: 1.0162\n",
      "Epoch [   26/   50] | d_loss: 1.2513 | g_loss: 1.1461\n",
      "Epoch [   26/   50] | d_loss: 1.2910 | g_loss: 1.0500\n",
      "Epoch [   26/   50] | d_loss: 1.1667 | g_loss: 1.6200\n",
      "Epoch [   27/   50] | d_loss: 1.2569 | g_loss: 1.0813\n",
      "Epoch [   27/   50] | d_loss: 1.1551 | g_loss: 1.4375\n",
      "Epoch [   27/   50] | d_loss: 1.2665 | g_loss: 1.4103\n",
      "Epoch [   28/   50] | d_loss: 1.1909 | g_loss: 1.4455\n",
      "Epoch [   28/   50] | d_loss: 1.2249 | g_loss: 1.0765\n",
      "Epoch [   28/   50] | d_loss: 1.2196 | g_loss: 1.1116\n",
      "Epoch [   29/   50] | d_loss: 1.1008 | g_loss: 1.1405\n",
      "Epoch [   29/   50] | d_loss: 1.1572 | g_loss: 1.0138\n",
      "Epoch [   29/   50] | d_loss: 1.3708 | g_loss: 1.0084\n",
      "Epoch [   30/   50] | d_loss: 1.3395 | g_loss: 1.1329\n",
      "Epoch [   30/   50] | d_loss: 1.2363 | g_loss: 1.0267\n",
      "Epoch [   30/   50] | d_loss: 1.1212 | g_loss: 1.7376\n",
      "Epoch [   31/   50] | d_loss: 1.2712 | g_loss: 1.4356\n",
      "Epoch [   31/   50] | d_loss: 1.1775 | g_loss: 1.2503\n",
      "Epoch [   31/   50] | d_loss: 1.4857 | g_loss: 1.2564\n",
      "Epoch [   32/   50] | d_loss: 1.2524 | g_loss: 1.3744\n",
      "Epoch [   32/   50] | d_loss: 1.2667 | g_loss: 1.3616\n",
      "Epoch [   32/   50] | d_loss: 1.3422 | g_loss: 1.1178\n",
      "Epoch [   33/   50] | d_loss: 1.2042 | g_loss: 1.1497\n",
      "Epoch [   33/   50] | d_loss: 1.2607 | g_loss: 1.5139\n",
      "Epoch [   33/   50] | d_loss: 1.2738 | g_loss: 1.6468\n",
      "Epoch [   34/   50] | d_loss: 1.2853 | g_loss: 1.0038\n",
      "Epoch [   34/   50] | d_loss: 1.2879 | g_loss: 0.9625\n",
      "Epoch [   34/   50] | d_loss: 1.3743 | g_loss: 1.3552\n",
      "Epoch [   35/   50] | d_loss: 1.2533 | g_loss: 1.3530\n",
      "Epoch [   35/   50] | d_loss: 1.2556 | g_loss: 1.2657\n",
      "Epoch [   35/   50] | d_loss: 1.2939 | g_loss: 1.2313\n",
      "Epoch [   36/   50] | d_loss: 1.1806 | g_loss: 1.3372\n",
      "Epoch [   36/   50] | d_loss: 1.1787 | g_loss: 1.0579\n",
      "Epoch [   36/   50] | d_loss: 1.2531 | g_loss: 1.4311\n",
      "Epoch [   37/   50] | d_loss: 1.2332 | g_loss: 1.2195\n",
      "Epoch [   37/   50] | d_loss: 1.2581 | g_loss: 1.0778\n",
      "Epoch [   37/   50] | d_loss: 1.2802 | g_loss: 1.0557\n",
      "Epoch [   38/   50] | d_loss: 1.2993 | g_loss: 1.0369\n",
      "Epoch [   38/   50] | d_loss: 1.2434 | g_loss: 1.0979\n",
      "Epoch [   38/   50] | d_loss: 1.1803 | g_loss: 1.3265\n",
      "Epoch [   39/   50] | d_loss: 1.1524 | g_loss: 1.9843\n",
      "Epoch [   39/   50] | d_loss: 1.1990 | g_loss: 0.9929\n",
      "Epoch [   39/   50] | d_loss: 1.1624 | g_loss: 1.1266\n",
      "Epoch [   40/   50] | d_loss: 1.1918 | g_loss: 1.6450\n",
      "Epoch [   40/   50] | d_loss: 1.2656 | g_loss: 0.8843\n",
      "Epoch [   40/   50] | d_loss: 1.3778 | g_loss: 1.3858\n",
      "Epoch [   41/   50] | d_loss: 1.1010 | g_loss: 1.2107\n",
      "Epoch [   41/   50] | d_loss: 1.1011 | g_loss: 2.0725\n",
      "Epoch [   41/   50] | d_loss: 1.2929 | g_loss: 1.2893\n",
      "Epoch [   42/   50] | d_loss: 1.1994 | g_loss: 1.6016\n",
      "Epoch [   42/   50] | d_loss: 1.1780 | g_loss: 1.0571\n",
      "Epoch [   42/   50] | d_loss: 1.1995 | g_loss: 1.0490\n",
      "Epoch [   43/   50] | d_loss: 1.3143 | g_loss: 1.3073\n",
      "Epoch [   43/   50] | d_loss: 1.3245 | g_loss: 2.0330\n",
      "Epoch [   43/   50] | d_loss: 1.1632 | g_loss: 1.6028\n",
      "Epoch [   44/   50] | d_loss: 1.1750 | g_loss: 1.4776\n",
      "Epoch [   44/   50] | d_loss: 1.3161 | g_loss: 1.0615\n",
      "Epoch [   44/   50] | d_loss: 1.2244 | g_loss: 1.0361\n",
      "Epoch [   45/   50] | d_loss: 1.2250 | g_loss: 1.2878\n",
      "Epoch [   45/   50] | d_loss: 1.2421 | g_loss: 1.0012\n",
      "Epoch [   45/   50] | d_loss: 1.2255 | g_loss: 1.0538\n",
      "Epoch [   46/   50] | d_loss: 1.2613 | g_loss: 1.2603\n",
      "Epoch [   46/   50] | d_loss: 1.3675 | g_loss: 0.8562\n",
      "Epoch [   46/   50] | d_loss: 1.2827 | g_loss: 1.3028\n",
      "Epoch [   47/   50] | d_loss: 1.3245 | g_loss: 1.1574\n",
      "Epoch [   47/   50] | d_loss: 1.2275 | g_loss: 1.5203\n",
      "Epoch [   47/   50] | d_loss: 1.2007 | g_loss: 1.2341\n",
      "Epoch [   48/   50] | d_loss: 1.3614 | g_loss: 1.5832\n",
      "Epoch [   48/   50] | d_loss: 1.1402 | g_loss: 1.9046\n",
      "Epoch [   48/   50] | d_loss: 1.2974 | g_loss: 1.1397\n",
      "Epoch [   49/   50] | d_loss: 1.2485 | g_loss: 1.0095\n",
      "Epoch [   49/   50] | d_loss: 1.2326 | g_loss: 1.4105\n",
      "Epoch [   49/   50] | d_loss: 1.2901 | g_loss: 1.1741\n",
      "Epoch [   50/   50] | d_loss: 1.2648 | g_loss: 1.0965\n",
      "Epoch [   50/   50] | d_loss: 1.2244 | g_loss: 1.2397\n",
      "Epoch [   50/   50] | d_loss: 1.3245 | g_loss: 0.9351\n"
     ]
    }
   ],
   "source": [
    "import pickle as pkl\n",
    "\n",
    "# training hyperparams\n",
    "num_epochs = 50\n",
    "\n",
    "# keep track of loss and generated, \"fake\" samples\n",
    "samples = []\n",
    "losses = []\n",
    "\n",
    "print_every = 400\n",
    "\n",
    "# Get some fixed data for sampling. These are images that are held\n",
    "# constant throughout training, and allow us to inspect the model's performance\n",
    "sample_size=16\n",
    "fixed_z = np.random.uniform(-1, 1, size=(sample_size, z_size))\n",
    "fixed_z = torch.from_numpy(fixed_z).float()\n",
    "\n",
    "# train the network\n",
    "D.train()\n",
    "G.train()\n",
    "for epoch in range(num_epochs):\n",
    "    \n",
    "    for batch_i, (real_images, _) in enumerate(train_loader):\n",
    "                \n",
    "        batch_size = real_images.size(0)\n",
    "        \n",
    "        ## Important rescaling step ## \n",
    "        real_images = scale(real_images) # rescale input images from [0,1) to [-1, 1)\n",
    "        \n",
    "        # ============================================\n",
    "        #            TRAIN THE DISCRIMINATOR\n",
    "        # ============================================\n",
    "        \n",
    "        d_optimizer.zero_grad()\n",
    "                \n",
    "        # 1. Train with real images\n",
    "\n",
    "        # Compute the discriminator losses on real images\n",
    "        # use smoothed labels\n",
    "        D_real = D(real_images)\n",
    "        d_real_loss = real_loss(D_real, smooth=True)\n",
    "        \n",
    "        # 2. Train with fake images\n",
    "        \n",
    "        # Generate fake images\n",
    "        z = np.random.uniform(-1, 1, size=(batch_size, z_size))\n",
    "        z = torch.from_numpy(z).float()\n",
    "        fake_images = G(z)\n",
    "        \n",
    "        # Compute the discriminator losses on fake images\n",
    "        D_fake = D(fake_images)\n",
    "        d_fake_loss = fake_loss(D_fake)\n",
    "        \n",
    "        # add up real and fake losses and perform backprop\n",
    "        d_loss = d_real_loss + d_fake_loss\n",
    "        d_loss.backward()\n",
    "        d_optimizer.step()\n",
    "        \n",
    "        \n",
    "        # =========================================\n",
    "        #            TRAIN THE GENERATOR\n",
    "        # =========================================\n",
    "        \n",
    "        g_optimizer.zero_grad()\n",
    "        \n",
    "        # 1. Train with fake images and flipped labels\n",
    "        \n",
    "        # Generate fake images\n",
    "        z = np.random.uniform(-1, 1, size=(batch_size, z_size))\n",
    "        z = torch.from_numpy(z).float()\n",
    "        fake_images = G(z)\n",
    "        \n",
    "        # Compute the discriminator losses on fake images \n",
    "        # using flipped labels!\n",
    "        D_fake = D(fake_images)\n",
    "        g_loss = real_loss(D_fake)\n",
    "        \n",
    "        # perform backprop\n",
    "        g_loss.backward()\n",
    "        g_optimizer.step()\n",
    "        \n",
    "\n",
    "        # Print some loss stats\n",
    "        if batch_i % print_every == 0:\n",
    "            # print discriminator and generator loss\n",
    "            print('Epoch [{:5d}/{:5d}] | d_loss: {:6.4f} | g_loss: {:6.4f}'.format(\n",
    "                    epoch+1, num_epochs, d_loss.item(), g_loss.item()))\n",
    "\n",
    "    \n",
    "    ## AFTER EACH EPOCH##\n",
    "    # append discriminator loss and generator loss\n",
    "    losses.append((d_loss.item(), g_loss.item()))\n",
    "    \n",
    "    # generate and save sample, fake images\n",
    "    G.eval() # eval mode for generating samples\n",
    "    samples_z = G(fixed_z)\n",
    "    samples.append(samples_z)\n",
    "    G.train() # back to train mode\n",
    "\n",
    "\n",
    "# Save training generator samples\n",
    "with open('GAN_model.pkl', 'wb') as f:\n",
    "    pkl.dump(samples, f)"
   ]
  },
  {
   "cell_type": "markdown",
   "metadata": {},
   "source": [
    "---\n",
    "### 1.4. Training loss <a id=\"1.4.\"></a>\n",
    "\n",
    "Here we'll plot the training losses for the generator and discriminator, recorded after each epoch."
   ]
  },
  {
   "cell_type": "code",
   "execution_count": 219,
   "metadata": {},
   "outputs": [
    {
     "data": {
      "text/plain": [
       "<matplotlib.legend.Legend at 0x11afcb5f8>"
      ]
     },
     "execution_count": 219,
     "metadata": {},
     "output_type": "execute_result"
    },
    {
     "data": {
      "image/png": "[encoded data removed]",
      "text/plain": [
       "<Figure size 432x288 with 1 Axes>"
      ]
     },
     "metadata": {},
     "output_type": "display_data"
    }
   ],
   "source": [
    "fig, ax = plt.subplots()\n",
    "losses = np.array(losses)\n",
    "plt.plot(losses.T[0], label='Discriminator')\n",
    "plt.plot(losses.T[1], label='Generator')\n",
    "plt.title(\"Training Losses\")\n",
    "plt.legend()"
   ]
  },
  {
   "cell_type": "markdown",
   "metadata": {},
   "source": [
    "---\n",
    "### 1.5. Generator samples from training <a id=\"1.5.\"></a>\n",
    "\n",
    "Here we can view samples of images from the generator. First we'll look at the images we saved during training."
   ]
  },
  {
   "cell_type": "code",
   "execution_count": 223,
   "metadata": {
    "collapsed": true
   },
   "outputs": [],
   "source": [
    "# helper function for viewing a list of passed in sample images\n",
    "def view_samples(epoch, samples):\n",
    "    fig, axes = plt.subplots(figsize=(7,7), nrows=4, ncols=4, sharey=True, sharex=True)\n",
    "    for ax, img in zip(axes.flatten(), samples[epoch]):\n",
    "        img = img.detach()\n",
    "        ax.xaxis.set_visible(False)\n",
    "        ax.yaxis.set_visible(False)\n",
    "        im = ax.imshow(img.reshape((32,32)), cmap='Greys_r')"
   ]
  },
  {
   "cell_type": "code",
   "execution_count": 224,
   "metadata": {
    "collapsed": true
   },
   "outputs": [],
   "source": [
    "# Load samples from generator, taken while training\n",
    "with open('GAN_model.pkl', 'rb') as f:\n",
    "    samples = pkl.load(f)"
   ]
  },
  {
   "cell_type": "markdown",
   "metadata": {},
   "source": [
    "These are samples from the final training epoch. We can see the generator is able to reproduce numbers like 1, 7, 3, 2. Since this is just a sample, it isn't representative of the full range of images this generator can make."
   ]
  },
  {
   "cell_type": "code",
   "execution_count": 225,
   "metadata": {},
   "outputs": [
    {
     "data": {
      "image/png": "[encoded data removed]",
      "text/plain": [
       "<Figure size 504x504 with 16 Axes>"
      ]
     },
     "metadata": {},
     "output_type": "display_data"
    }
   ],
   "source": [
    "# -1 indicates final epoch's samples (the last in the list)\n",
    "view_samples(-1, samples)"
   ]
  },
  {
   "cell_type": "markdown",
   "metadata": {},
   "source": [
    "Below I'm showing the generated images as the network was training, every 10 epochs."
   ]
  },
  {
   "cell_type": "code",
   "execution_count": 227,
   "metadata": {},
   "outputs": [
    {
     "data": {
      "image/png": "[encoded data removed]",
      "text/plain": [
       "<Figure size 504x864 with 60 Axes>"
      ]
     },
     "metadata": {},
     "output_type": "display_data"
    }
   ],
   "source": [
    "rows = 10 # split epochs into 10, so 100/10 = every 10 epochs\n",
    "cols = 6\n",
    "fig, axes = plt.subplots(figsize=(7,12), nrows=rows, ncols=cols, sharex=True, sharey=True)\n",
    "\n",
    "for sample, ax_row in zip(samples[::int(len(samples)/rows)], axes):\n",
    "    for img, ax in zip(sample[::int(len(sample)/cols)], ax_row):\n",
    "        img = img.detach()\n",
    "        ax.imshow(img.reshape((32,32)), cmap='Greys_r')\n",
    "        ax.xaxis.set_visible(False)\n",
    "        ax.yaxis.set_visible(False)"
   ]
  },
  {
   "cell_type": "markdown",
   "metadata": {},
   "source": [
    "It starts out as all noise. Then it learns to make only the center white and the rest black. We can start to see some number like structures appear out of the noise like 1s and 9s."
   ]
  },
  {
   "cell_type": "markdown",
   "metadata": {},
   "source": [
    "---\n",
    "### 1.6. Sampling from the generator <a id=\"1.6.\"></a>\n",
    "\n",
    "We can also get completely new images from the generator by using the checkpoint we saved after training. **We just need to pass in a new latent vector $z$ and we'll get new samples**!"
   ]
  },
  {
   "cell_type": "code",
   "execution_count": 228,
   "metadata": {},
   "outputs": [
    {
     "name": "stderr",
     "output_type": "stream",
     "text": [
      "/anaconda3/lib/python3.6/site-packages/torch/nn/functional.py:1374: UserWarning: nn.functional.tanh is deprecated. Use torch.tanh instead.\n",
      "  warnings.warn(\"nn.functional.tanh is deprecated. Use torch.tanh instead.\")\n"
     ]
    },
    {
     "data": {
      "image/png": "[encoded data removed]",
      "text/plain": [
       "<Figure size 504x504 with 16 Axes>"
      ]
     },
     "metadata": {},
     "output_type": "display_data"
    }
   ],
   "source": [
    "# randomly generated, new latent vectors\n",
    "sample_size=16\n",
    "rand_z = np.random.uniform(-1, 1, size=(sample_size, z_size))\n",
    "rand_z = torch.from_numpy(rand_z).float()\n",
    "\n",
    "G.eval() # eval mode\n",
    "# generated samples\n",
    "rand_images = G(rand_z)\n",
    "\n",
    "# 0 indicates the first set of samples in the passed in list\n",
    "# and we only have one batch of samples, here\n",
    "view_samples(0, [rand_images])"
   ]
  },
  {
   "cell_type": "markdown",
   "metadata": {
    "collapsed": true
   },
   "source": [
    "---\n",
    "## 2.0. Deep Convolutional Generative Adversarial Network <a id=\"2.0.\"></a>\n",
    "### 2.1. Define the model <a id=\"2.1.\"></a>\n",
    "Similar with GAN, DCGAN is comprised of two adversarial networks, a discriminator and a generator."
   ]
  },
  {
   "cell_type": "markdown",
   "metadata": {},
   "source": [
    "### 2.1.1. Discriminator <a id=\"2.1.1.\"></a>\n",
    "\n",
    "This is similar with a regular convolutional classifier, only without any maxpooling layers. \n",
    "* The inputs to the discriminator are 32x32x1 tensor images\n",
    "* We need a few convolutional, hidden layers\n",
    "* Then a fully connected layer for the output; as before, we want a sigmoid output, but we'll add that in the loss function, [BCEWithLogitsLoss](https://pytorch.org/docs/stable/nn.html#bcewithlogitsloss), later\n",
    "\n",
    "<img src='assets/conv_discriminator.png' width=80%/>\n",
    "\n",
    "For the depths of the convolutional layers, we start with 128 filters in the first layer, then double that depth as we add layers (to 256, 512, etc.). Note that in the DCGAN paper, they did all the downsampling using only strided convolutional layers with no maxpooling layers.\n",
    "\n",
    "We'll also want to use batch normalization with [nn.BatchNorm2d](https://pytorch.org/docs/stable/nn.html#batchnorm2d) on each layer **except** the first convolutional layer and final, linear output layer. \n",
    "\n",
    "#### Helper `conv` function \n",
    "\n",
    "In general, each layer should look something like convolution > batch norm > leaky ReLU, and so we'll define a function to put these layers together. This function will create a sequential series of a convolutional + an optional batch norm layer. We'll create these using PyTorch's [Sequential container](https://pytorch.org/docs/stable/nn.html#sequential), which takes in a list of layers and creates layers according to the order that they are passed in to the Sequential constructor.\n",
    "\n",
    "Note: We use a **kernel_size of 4** and a **stride of 2** for strided convolutions."
   ]
  },
  {
   "cell_type": "code",
   "execution_count": 229,
   "metadata": {
    "collapsed": true
   },
   "outputs": [],
   "source": [
    "import torch.nn as nn\n",
    "import torch.nn.functional as F\n",
    "\n",
    "# helper conv function\n",
    "def conv(in_channels, out_channels, kernel_size, stride=2, padding=1, batch_norm=True):\n",
    "    \"\"\"Creates a convolutional layer, with optional batch normalization.\n",
    "    \"\"\"\n",
    "    layers = []\n",
    "    conv_layer = nn.Conv2d(in_channels, out_channels, \n",
    "                           kernel_size, stride, padding, bias=False)\n",
    "    \n",
    "    # append conv layer\n",
    "    layers.append(conv_layer)\n",
    "\n",
    "    if batch_norm:\n",
    "        # append batchnorm layer\n",
    "        layers.append(nn.BatchNorm2d(out_channels))\n",
    "     \n",
    "    # using Sequential container\n",
    "    return nn.Sequential(*layers)\n"
   ]
  },
  {
   "cell_type": "code",
   "execution_count": 230,
   "metadata": {
    "collapsed": true
   },
   "outputs": [],
   "source": [
    "class Discriminator(nn.Module):\n",
    "\n",
    "    def __init__(self, conv_dim=32):\n",
    "        super(Discriminator, self).__init__()\n",
    "\n",
    "        # complete init function\n",
    "        self.conv_dim = conv_dim\n",
    "        \n",
    "        # convolutional layers\n",
    "        self.conv1 = conv(1, conv_dim, 4, batch_norm=False)\n",
    "        self.conv2 = conv(conv_dim, conv_dim*2, 4)\n",
    "        self.conv3 = conv(conv_dim*2, conv_dim*4, 4)\n",
    "        \n",
    "        # fully connected layer\n",
    "        self.fc = nn.Linear(conv_dim*4*4*4, 1)\n",
    "\n",
    "    def forward(self, x):\n",
    "        # convolutional layers\n",
    "        x = F.leaky_relu(self.conv1(x), 0.2)\n",
    "        x = F.leaky_relu(self.conv2(x), 0.2)\n",
    "        x = F.leaky_relu(self.conv3(x), 0.2)\n",
    "        \n",
    "        # flatten\n",
    "        x = x.view(-1, self.conv_dim*4*4*4)\n",
    "        \n",
    "        # final output layer\n",
    "        x = self.fc(x)\n",
    "        \n",
    "        return x\n",
    "    "
   ]
  },
  {
   "cell_type": "markdown",
   "metadata": {},
   "source": [
    "### 2.1.2. Generator <a id=\"2.1.2.\"></a>\n",
    "\n",
    "Next, we'll build the generator network. The input will be our noise vector `z`, as before. And, the output will be a $tanh$ output with size 32x32, which is the size of our MNIST images.\n",
    "\n",
    "<img src='assets/conv_generator.png' width=80% />\n",
    "\n",
    "What's new here is we'll use transpose convolutional layers to create our new images. \n",
    "* The first layer is a fully connected layer which is reshaped into a deep and narrow layer.\n",
    "* Then, we use batch normalization and a leaky ReLU activation. \n",
    "* Next is a series of [transpose convolutional layers](https://pytorch.org/docs/stable/nn.html#convtranspose2d), where we typically halve the depth and double the width and height of the previous layer. \n",
    "* And, we'll apply batch normalization and ReLU to all but the last of these hidden layers. Where we will just apply a `tanh` activation.\n",
    "\n",
    "#### Helper `deconv` function\n",
    "\n",
    "For each of these layers, the general scheme is transpose convolution > batch norm > ReLU, and so we'll define a function to put these layers together. This function will create a sequential series of a transpose convolutional + an optional batch norm layer. We'll create these using PyTorch's Sequential container, which takes in a list of layers and creates layers according to the order that they are passed in to the Sequential constructor.\n",
    "\n",
    "Note: It is also suggested that we use a **kernel_size of 4** and a **stride of 2** for transpose convolutions."
   ]
  },
  {
   "cell_type": "code",
   "execution_count": 231,
   "metadata": {
    "collapsed": true
   },
   "outputs": [],
   "source": [
    "# helper deconv function\n",
    "def deconv(in_channels, out_channels, kernel_size, stride=2, padding=1, batch_norm=True):\n",
    "    \"\"\"Creates a transposed-convolutional layer, with optional batch normalization.\n",
    "    \"\"\"\n",
    "\n",
    "    ## create a sequence of transpose + optional batch norm layers\n",
    "    layers = []\n",
    "    transpose_conv_layer = nn.ConvTranspose2d(in_channels, out_channels, kernel_size, \n",
    "                                              stride, padding, bias=False)\n",
    "    \n",
    "    # append transpose convolutional layer\n",
    "    layers.append(transpose_conv_layer)\n",
    "    \n",
    "    if batch_norm:\n",
    "        # append batchnorm layer\n",
    "        layers.append(nn.BatchNorm2d(out_channels))\n",
    "        \n",
    "    return nn.Sequential(*layers)"
   ]
  },
  {
   "cell_type": "code",
   "execution_count": 232,
   "metadata": {
    "collapsed": true
   },
   "outputs": [],
   "source": [
    "class Generator(nn.Module):\n",
    "    \n",
    "    def __init__(self, z_size, conv_dim=32):\n",
    "        super(Generator, self).__init__()\n",
    "\n",
    "        # complete init function\n",
    "        self.conv_dim = conv_dim\n",
    "        \n",
    "        # fully connected layer\n",
    "        self.fc = nn.Linear(z_size, conv_dim*4*4*4)\n",
    "        \n",
    "        # transpose convolutional layers\n",
    "        self.t_conv1 = deconv(conv_dim*4, conv_dim*2, 4)\n",
    "        self.t_conv2 = deconv(conv_dim*2, conv_dim, 4)\n",
    "        self.t_conv3 = deconv(conv_dim, 1, 4, batch_norm=False)\n",
    "        \n",
    "    def forward(self, x):\n",
    "        # fully connected + reshape\n",
    "        x = self.fc(x)\n",
    "        x = x.view(-1, conv_dim*4, 4, 4) # (batch_size, depth, 4, 4)\n",
    "        \n",
    "        # hidden transpose conv layers + relu\n",
    "        x = F.relu(self.t_conv1(x))\n",
    "        x = F.relu(self.t_conv2(x))\n",
    "        \n",
    "        # last layer + tanh activation\n",
    "        x = self.t_conv3(x)\n",
    "        x = F.tanh(x)\n",
    "        \n",
    "        return x"
   ]
  },
  {
   "cell_type": "markdown",
   "metadata": {},
   "source": [
    "### 2.1.3. Build complete network <a id=\"2.1.3.\"></a>\n",
    "\n",
    "We define our models' hyperparameters and instantiate the discriminator and generator from the classes defined above."
   ]
  },
  {
   "cell_type": "code",
   "execution_count": 245,
   "metadata": {},
   "outputs": [
    {
     "name": "stdout",
     "output_type": "stream",
     "text": [
      "Discriminator(\n",
      "  (conv1): Sequential(\n",
      "    (0): Conv2d(1, 128, kernel_size=(4, 4), stride=(2, 2), padding=(1, 1), bias=False)\n",
      "  )\n",
      "  (conv2): Sequential(\n",
      "    (0): Conv2d(128, 256, kernel_size=(4, 4), stride=(2, 2), padding=(1, 1), bias=False)\n",
      "    (1): BatchNorm2d(256, eps=1e-05, momentum=0.1, affine=True, track_running_stats=True)\n",
      "  )\n",
      "  (conv3): Sequential(\n",
      "    (0): Conv2d(256, 512, kernel_size=(4, 4), stride=(2, 2), padding=(1, 1), bias=False)\n",
      "    (1): BatchNorm2d(512, eps=1e-05, momentum=0.1, affine=True, track_running_stats=True)\n",
      "  )\n",
      "  (fc): Linear(in_features=8192, out_features=1, bias=True)\n",
      ")\n",
      "\n",
      "Generator(\n",
      "  (fc): Linear(in_features=100, out_features=8192, bias=True)\n",
      "  (t_conv1): Sequential(\n",
      "    (0): ConvTranspose2d(512, 256, kernel_size=(4, 4), stride=(2, 2), padding=(1, 1), bias=False)\n",
      "    (1): BatchNorm2d(256, eps=1e-05, momentum=0.1, affine=True, track_running_stats=True)\n",
      "  )\n",
      "  (t_conv2): Sequential(\n",
      "    (0): ConvTranspose2d(256, 128, kernel_size=(4, 4), stride=(2, 2), padding=(1, 1), bias=False)\n",
      "    (1): BatchNorm2d(128, eps=1e-05, momentum=0.1, affine=True, track_running_stats=True)\n",
      "  )\n",
      "  (t_conv3): Sequential(\n",
      "    (0): ConvTranspose2d(128, 1, kernel_size=(4, 4), stride=(2, 2), padding=(1, 1), bias=False)\n",
      "  )\n",
      ")\n"
     ]
    }
   ],
   "source": [
    "# define hyperparams\n",
    "conv_dim = 128\n",
    "z_size = 100\n",
    "\n",
    "# define discriminator and generator\n",
    "D = Discriminator(conv_dim)\n",
    "G = Generator(z_size=z_size, conv_dim=conv_dim)\n",
    "\n",
    "print(D)\n",
    "print()\n",
    "print(G)"
   ]
  },
  {
   "cell_type": "markdown",
   "metadata": {},
   "source": [
    "### 2.1.4. Training on GPU <a id=\"2.1.4.\"></a>\n",
    "\n",
    "Check if we can train on GPU. If we can, we set this as a variable and move our models to GPU. \n",
    "> Later, we'll also move any inputs our models and loss functions see (real_images, z, and ground truth labels) to GPU as well."
   ]
  },
  {
   "cell_type": "code",
   "execution_count": 246,
   "metadata": {},
   "outputs": [
    {
     "name": "stdout",
     "output_type": "stream",
     "text": [
      "Training on CPU.\n"
     ]
    }
   ],
   "source": [
    "train_on_gpu = torch.cuda.is_available()\n",
    "\n",
    "if train_on_gpu:\n",
    "    # move models to GPU\n",
    "    G.cuda()\n",
    "    D.cuda()\n",
    "    print('GPU available for training. Models moved to GPU')\n",
    "else:\n",
    "    print('Training on CPU.')\n",
    "    "
   ]
  },
  {
   "cell_type": "markdown",
   "metadata": {},
   "source": [
    "---\n",
    "### 2.2. Discriminator and generator loss <a id=\"2.2.\"></a>\n",
    "\n",
    "Now we need to calculate the losses. And this will be exactly the same as before.\n",
    "\n",
    "### 2.2.1. Discriminator loss <a id=\"2.2.1.\"></a>\n",
    "\n",
    "> * For the discriminator, the total loss is the sum of the losses for real and fake images, `d_loss = d_real_loss + d_fake_loss`. \n",
    "* Remember that we want the discriminator to output 1 for real images and 0 for fake images, so we need to set up the losses to reflect that.\n",
    "\n",
    "The losses will by binary cross entropy loss with logits, which we can get with [BCEWithLogitsLoss](https://pytorch.org/docs/stable/nn.html#bcewithlogitsloss). This combines a `sigmoid` activation function **and** and binary cross entropy loss in one function.\n",
    "\n",
    "For the real images, we want `D(real_images) = 1`. That is, we want the discriminator to classify the the real images with a label = 1, indicating that these are real. The discriminator loss for the fake data is similar. We want `D(fake_images) = 0`, where the fake images are the _generator output_, `fake_images = G(z)`. \n",
    "\n",
    "### 2.2.2. Generator loss <a id=\"2.2.2.\"></a>\n",
    "\n",
    "The generator loss will look similar only with flipped labels. The generator's goal is to get `D(fake_images) = 1`. In this case, the labels are **flipped** to represent that the generator is trying to fool the discriminator into thinking that the images it generates (fakes) are real!"
   ]
  },
  {
   "cell_type": "code",
   "execution_count": 247,
   "metadata": {
    "collapsed": true
   },
   "outputs": [],
   "source": [
    "def real_loss(D_out, smooth=False):\n",
    "    batch_size = D_out.size(0)\n",
    "    # label smoothing\n",
    "    if smooth:\n",
    "        # smooth, real labels = 0.9\n",
    "        labels = torch.ones(batch_size)*0.9\n",
    "    else:\n",
    "        labels = torch.ones(batch_size) # real labels = 1\n",
    "    # move labels to GPU if available     \n",
    "    if train_on_gpu:\n",
    "        labels = labels.cuda()\n",
    "    # binary cross entropy with logits loss\n",
    "    criterion = nn.BCEWithLogitsLoss()\n",
    "    # calculate loss\n",
    "    loss = criterion(D_out.squeeze(), labels)\n",
    "    return loss\n",
    "\n",
    "def fake_loss(D_out):\n",
    "    batch_size = D_out.size(0)\n",
    "    labels = torch.zeros(batch_size) # fake labels = 0\n",
    "    if train_on_gpu:\n",
    "        labels = labels.cuda()\n",
    "    criterion = nn.BCEWithLogitsLoss()\n",
    "    # calculate loss\n",
    "    loss = criterion(D_out.squeeze(), labels)\n",
    "    return loss"
   ]
  },
  {
   "cell_type": "markdown",
   "metadata": {},
   "source": [
    "### 2.2.3. Optimizers <a id=\"2.2.3.\"></a>\n",
    "\n",
    "Not much new here, but notice how we are using a small learning rate and custom parameters for the Adam optimizers, This is based on some research into DCGAN model convergence.\n",
    "\n",
    "#### Hyperparameters\n",
    "\n",
    "DCGANs are very sensitive to hyperparameters. A lot of experimentation goes into finding the best hyperparameters such that the generator and discriminator don't overpower each other. "
   ]
  },
  {
   "cell_type": "code",
   "execution_count": 248,
   "metadata": {
    "collapsed": true
   },
   "outputs": [],
   "source": [
    "import torch.optim as optim\n",
    "\n",
    "# params\n",
    "lr = 0.0002\n",
    "beta1=0.5\n",
    "beta2=0.999\n",
    "\n",
    "# Create optimizers for the discriminator and generator\n",
    "d_optimizer = optim.Adam(D.parameters(), lr, [beta1, beta2])\n",
    "g_optimizer = optim.Adam(G.parameters(), lr, [beta1, beta2])"
   ]
  },
  {
   "cell_type": "markdown",
   "metadata": {},
   "source": [
    "---\n",
    "### 2.3. Training <a id=\"2.3.\"></a>\n",
    "\n",
    "Training will involve alternating between training the discriminator and the generator. We'll use our functions `real_loss` and `fake_loss` to help us calculate the discriminator losses in all of the following cases.\n",
    "\n",
    "#### Discriminator training\n",
    "1. Compute the discriminator loss on real, training images        \n",
    "2. Generate fake images\n",
    "3. Compute the discriminator loss on fake, generated images     \n",
    "4. Add up real and fake loss\n",
    "5. Perform backpropagation + an optimization step to update the discriminator's weights\n",
    "\n",
    "#### Generator training\n",
    "1. Generate fake images\n",
    "2. Compute the discriminator loss on fake images, using **flipped** labels!\n",
    "3. Perform backpropagation + an optimization step to update the generator's weights\n",
    "\n",
    "#### Saving Samples\n",
    "\n",
    "As we train, we'll also print out some loss statistics and save some generated \"fake\" samples.\n",
    "\n",
    "**Evaluation mode**\n",
    "\n",
    "Notice that, when we call our generator to create the samples to display, we set our model to evaluation mode: `G.eval()`. That's so the batch normalization layers will use the population statistics rather than the batch statistics (as they do during training), *and* so dropout layers will operate in eval() mode; not turning off any nodes for generating samples."
   ]
  },
  {
   "cell_type": "code",
   "execution_count": 249,
   "metadata": {},
   "outputs": [
    {
     "name": "stderr",
     "output_type": "stream",
     "text": [
      "/anaconda3/lib/python3.6/site-packages/torch/nn/functional.py:1374: UserWarning: nn.functional.tanh is deprecated. Use torch.tanh instead.\n",
      "  warnings.warn(\"nn.functional.tanh is deprecated. Use torch.tanh instead.\")\n"
     ]
    },
    {
     "name": "stdout",
     "output_type": "stream",
     "text": [
      "Epoch [    1/    5] | d_loss: 1.4258 | g_loss: 1.0930\n",
      "Epoch [    1/    5] | d_loss: 0.8147 | g_loss: 0.7944\n",
      "Epoch [    1/    5] | d_loss: 1.1354 | g_loss: 4.1101\n",
      "Epoch [    1/    5] | d_loss: 0.1921 | g_loss: 2.6343\n",
      "Epoch [    2/    5] | d_loss: 1.2205 | g_loss: 0.5475\n",
      "Epoch [    2/    5] | d_loss: 0.4390 | g_loss: 2.5513\n",
      "Epoch [    2/    5] | d_loss: 0.6620 | g_loss: 1.6995\n",
      "Epoch [    2/    5] | d_loss: 0.2513 | g_loss: 2.0495\n",
      "Epoch [    3/    5] | d_loss: 0.3748 | g_loss: 1.3295\n",
      "Epoch [    3/    5] | d_loss: 0.1759 | g_loss: 1.6763\n",
      "Epoch [    3/    5] | d_loss: 0.5748 | g_loss: 2.5213\n",
      "Epoch [    3/    5] | d_loss: 0.0332 | g_loss: 5.0944\n",
      "Epoch [    4/    5] | d_loss: 0.4026 | g_loss: 6.6565\n",
      "Epoch [    4/    5] | d_loss: 0.0999 | g_loss: 2.9449\n",
      "Epoch [    4/    5] | d_loss: 0.0738 | g_loss: 4.2112\n",
      "Epoch [    4/    5] | d_loss: 0.0964 | g_loss: 3.3404\n",
      "Epoch [    5/    5] | d_loss: 0.0948 | g_loss: 3.6053\n",
      "Epoch [    5/    5] | d_loss: 0.0825 | g_loss: 5.9882\n",
      "Epoch [    5/    5] | d_loss: 0.4157 | g_loss: 2.9763\n",
      "Epoch [    5/    5] | d_loss: 0.0176 | g_loss: 5.4968\n"
     ]
    }
   ],
   "source": [
    "import pickle as pkl\n",
    "\n",
    "# training hyperparams\n",
    "num_epochs = 5\n",
    "\n",
    "# keep track of loss and generated, \"fake\" samples\n",
    "samples = []\n",
    "losses = []\n",
    "\n",
    "print_every = 300\n",
    "\n",
    "# Get some fixed data for sampling. These are images that are held\n",
    "# constant throughout training, and allow us to inspect the model's performance\n",
    "sample_size=16\n",
    "fixed_z = np.random.uniform(-1, 1, size=(sample_size, z_size))\n",
    "fixed_z = torch.from_numpy(fixed_z).float()\n",
    "\n",
    "# train the network\n",
    "for epoch in range(num_epochs):\n",
    "    \n",
    "    for batch_i, (real_images, _) in enumerate(train_loader):\n",
    "                \n",
    "        batch_size = real_images.size(0)\n",
    "        \n",
    "        # important rescaling step\n",
    "        real_images = scale(real_images)\n",
    "        \n",
    "        # ============================================\n",
    "        #            TRAIN THE DISCRIMINATOR\n",
    "        # ============================================\n",
    "        \n",
    "        d_optimizer.zero_grad()\n",
    "        \n",
    "        # 1. Train with real images\n",
    "\n",
    "        # Compute the discriminator losses on real images \n",
    "        if train_on_gpu:\n",
    "            real_images = real_images.cuda()\n",
    "        \n",
    "        D_real = D(real_images)\n",
    "        d_real_loss = real_loss(D_real)\n",
    "        \n",
    "        # 2. Train with fake images\n",
    "        \n",
    "        # Generate fake images\n",
    "        z = np.random.uniform(-1, 1, size=(batch_size, z_size))\n",
    "        z = torch.from_numpy(z).float()\n",
    "        # move x to GPU, if available\n",
    "        if train_on_gpu:\n",
    "            z = z.cuda()\n",
    "        fake_images = G(z)\n",
    "        \n",
    "        # Compute the discriminator losses on fake images            \n",
    "        D_fake = D(fake_images)\n",
    "        d_fake_loss = fake_loss(D_fake)\n",
    "        \n",
    "        # add up loss and perform backprop\n",
    "        d_loss = d_real_loss + d_fake_loss\n",
    "        d_loss.backward()\n",
    "        d_optimizer.step()\n",
    "        \n",
    "        \n",
    "        # =========================================\n",
    "        #            TRAIN THE GENERATOR\n",
    "        # =========================================\n",
    "        g_optimizer.zero_grad()\n",
    "        \n",
    "        # 1. Train with fake images and flipped labels\n",
    "        \n",
    "        # Generate fake images\n",
    "        z = np.random.uniform(-1, 1, size=(batch_size, z_size))\n",
    "        z = torch.from_numpy(z).float()\n",
    "        if train_on_gpu:\n",
    "            z = z.cuda()\n",
    "        fake_images = G(z)\n",
    "        \n",
    "        # Compute the discriminator losses on fake images \n",
    "        # using flipped labels!\n",
    "        D_fake = D(fake_images)\n",
    "        g_loss = real_loss(D_fake) # use real loss to flip labels\n",
    "        \n",
    "        # perform backprop\n",
    "        g_loss.backward()\n",
    "        g_optimizer.step()\n",
    "\n",
    "        # Print some loss stats\n",
    "        if batch_i % print_every == 0:\n",
    "            # append discriminator loss and generator loss\n",
    "            losses.append((d_loss.item(), g_loss.item()))\n",
    "            # print discriminator and generator loss\n",
    "            print('Epoch [{:5d}/{:5d}] | d_loss: {:6.4f} | g_loss: {:6.4f}'.format(\n",
    "                    epoch+1, num_epochs, d_loss.item(), g_loss.item()))\n",
    "\n",
    "    \n",
    "    ## AFTER EACH EPOCH##    \n",
    "    # generate and save sample, fake images\n",
    "    G.eval() # for generating samples\n",
    "    if train_on_gpu:\n",
    "        fixed_z = fixed_z.cuda()\n",
    "    samples_z = G(fixed_z)\n",
    "    samples.append(samples_z)\n",
    "    G.train() # back to training mode\n",
    "\n",
    "\n",
    "# Save training generator samples\n",
    "with open('DCGAN_model.pkl', 'wb') as f:\n",
    "    pkl.dump(samples, f)"
   ]
  },
  {
   "cell_type": "markdown",
   "metadata": {},
   "source": [
    "---\n",
    "### 2.4. Training loss <a id=\"2.4.\"></a>\n",
    "\n",
    "Here we'll plot the training losses for the generator and discriminator, recorded after each epoch."
   ]
  },
  {
   "cell_type": "code",
   "execution_count": 250,
   "metadata": {},
   "outputs": [
    {
     "data": {
      "text/plain": [
       "<matplotlib.legend.Legend at 0x12494ad30>"
      ]
     },
     "execution_count": 250,
     "metadata": {},
     "output_type": "execute_result"
    },
    {
     "data": {
      "image/png": "[encoded data removed]",
      "text/plain": [
       "<Figure size 432x288 with 1 Axes>"
      ]
     },
     "metadata": {},
     "output_type": "display_data"
    }
   ],
   "source": [
    "fig, ax = plt.subplots()\n",
    "losses = np.array(losses)\n",
    "plt.plot(losses.T[0], label='Discriminator', alpha=0.5)\n",
    "plt.plot(losses.T[1], label='Generator', alpha=0.5)\n",
    "plt.title(\"Training Losses\")\n",
    "plt.legend()"
   ]
  },
  {
   "cell_type": "markdown",
   "metadata": {},
   "source": [
    "---\n",
    "### 2.5. Generator samples from training <a id=\"2.5.\"></a>\n",
    "\n",
    "Here we can view samples of images from the generator. First we'll look at the images we saved during training."
   ]
  },
  {
   "cell_type": "code",
   "execution_count": 251,
   "metadata": {
    "collapsed": true
   },
   "outputs": [],
   "source": [
    "# Load samples from generator, taken while training\n",
    "with open('DCGAN_model.pkl', 'rb') as f:\n",
    "    samples = pkl.load(f)"
   ]
  },
  {
   "cell_type": "markdown",
   "metadata": {},
   "source": [
    "These are samples from the final training epoch. We can see the generator is able to reproduce numbers like 1, 7, 3, 6, 8. Since this is just a sample, it isn't representative of the full range of images this generator can make. The images generated from DCGAN model generally have better quality than the images generated than GAN model."
   ]
  },
  {
   "cell_type": "code",
   "execution_count": 252,
   "metadata": {},
   "outputs": [
    {
     "data": {
      "image/png": "[encoded data removed]",
      "text/plain": [
       "<Figure size 504x504 with 16 Axes>"
      ]
     },
     "metadata": {},
     "output_type": "display_data"
    }
   ],
   "source": [
    "# -1 indicates final epoch's samples (the last in the list)\n",
    "view_samples(-1, samples)"
   ]
  },
  {
   "cell_type": "markdown",
   "metadata": {},
   "source": []
  }
 ],
 "metadata": {
  "kernelspec": {
   "display_name": "Python 3",
   "language": "python",
   "name": "python3"
  },
  "language_info": {
   "codemirror_mode": {
    "name": "ipython",
    "version": 3
   },
   "file_extension": ".py",
   "mimetype": "text/x-python",
   "name": "python",
   "nbconvert_exporter": "python",
   "pygments_lexer": "ipython3",
   "version": "3.6.3"
  }
 },
 "nbformat": 4,
 "nbformat_minor": 2
}
